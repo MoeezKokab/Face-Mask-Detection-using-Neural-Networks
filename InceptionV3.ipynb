{
 "cells": [
  {
   "cell_type": "code",
   "execution_count": 1,
   "metadata": {
    "id": "kiadih9mPI4O"
   },
   "outputs": [],
   "source": [
    "# importing the necessary libraries\n",
    "import matplotlib.pyplot as plt\n",
    "import numpy as np\n",
    "import tensorflow as tf\n",
    "from tensorflow import keras\n",
    "from tensorflow.keras import layers\n",
    "from tensorflow.keras.models import Sequential\n",
    "import tkinter as tk\n",
    "from tkinter import filedialog\n",
    "import pathlib\n",
    "from keras.layers import Dense, GlobalAveragePooling2D, Conv2D, MaxPool2D, Flatten, Input, ZeroPadding2D, BatchNormalization\n",
    "from keras.layers import Activation,MaxPooling2D, Add,AveragePooling2D\n",
    "from keras.models import Model\n",
    "from tensorflow.keras.optimizers import Adam\n"
   ]
  },
  {
   "cell_type": "code",
   "execution_count": 2,
   "metadata": {
    "id": "u3qJDUx_Pg4V"
   },
   "outputs": [],
   "source": [
    "# Fetching the dataset\n",
    "data = 'Train'\n",
    "data = pathlib.Path(data)"
   ]
  },
  {
   "cell_type": "code",
   "execution_count": 3,
   "metadata": {
    "colab": {
     "base_uri": "https://localhost:8080/"
    },
    "id": "3xWT7FkbPlf6",
    "outputId": "11fe855d-61b8-4859-c58d-5b9b723a9806"
   },
   "outputs": [
    {
     "name": "stdout",
     "output_type": "stream",
     "text": [
      "Found 10000 files belonging to 2 classes.\n",
      "Using 8000 files for training.\n"
     ]
    }
   ],
   "source": [
    "# Data preprocessing for Training Set\n",
    "batch_size=32\n",
    "height = 75\n",
    "width = 75\n",
    "\n",
    "train_data=tf.keras.utils.image_dataset_from_directory(\n",
    "    data,\n",
    "    batch_size=batch_size,\n",
    "    seed=123,\n",
    "    validation_split=0.2,\n",
    "    subset=\"training\",\n",
    "    image_size=(height,width)\n",
    ")"
   ]
  },
  {
   "cell_type": "code",
   "execution_count": 4,
   "metadata": {
    "colab": {
     "base_uri": "https://localhost:8080/"
    },
    "id": "k7vY-aFyP81c",
    "outputId": "83f73478-35dc-40c8-8ac0-c6011683d5ed"
   },
   "outputs": [
    {
     "name": "stdout",
     "output_type": "stream",
     "text": [
      "Found 10000 files belonging to 2 classes.\n",
      "Using 2000 files for validation.\n"
     ]
    }
   ],
   "source": [
    "# Data preprocessing for Validation Set\n",
    "valid_data=tf.keras.utils.image_dataset_from_directory(\n",
    "    data,\n",
    "    batch_size=batch_size,\n",
    "    seed=123,\n",
    "    validation_split=0.2,\n",
    "    subset=\"validation\",\n",
    "    image_size=(height,width)\n",
    ")"
   ]
  },
  {
   "cell_type": "code",
   "execution_count": 5,
   "metadata": {
    "colab": {
     "base_uri": "https://localhost:8080/"
    },
    "id": "KiseXwRHPn6v",
    "outputId": "4079313c-06a8-4196-cec7-859a76c75c8c"
   },
   "outputs": [
    {
     "name": "stdout",
     "output_type": "stream",
     "text": [
      "['WithMask', 'WithoutMask']\n"
     ]
    }
   ],
   "source": [
    "# Sowing the classes in Train Set\n",
    "train_label_name = train_data.class_names\n",
    "print(train_label_name)"
   ]
  },
  {
   "cell_type": "code",
   "execution_count": 6,
   "metadata": {
    "colab": {
     "base_uri": "https://localhost:8080/"
    },
    "id": "NCETv996PzNh",
    "outputId": "c78403a6-a2fc-4957-f918-8086db37c7bb"
   },
   "outputs": [
    {
     "name": "stdout",
     "output_type": "stream",
     "text": [
      "['WithMask', 'WithoutMask']\n"
     ]
    }
   ],
   "source": [
    "# Sowing the classes in Validation Set\n",
    "valid_label_name = valid_data.class_names\n",
    "print(valid_label_name)"
   ]
  },
  {
   "cell_type": "code",
   "execution_count": 7,
   "metadata": {
    "id": "wt9C5SNNP1dk"
   },
   "outputs": [],
   "source": [
    "# Automatically shuffling the images @ 1000 images per fetch\n",
    "autotune=tf.data.experimental.AUTOTUNE\n",
    "train_data=train_data.cache().shuffle(1000).prefetch(buffer_size=autotune)\n",
    "\n",
    "valid_data=valid_data.cache().prefetch(buffer_size=autotune)"
   ]
  },
  {
   "cell_type": "code",
   "execution_count": 8,
   "metadata": {
    "colab": {
     "base_uri": "https://localhost:8080/"
    },
    "id": "_2vwHfSaQBBM",
    "outputId": "cacce2ba-37b3-459a-e44e-9a8522eceeb2"
   },
   "outputs": [
    {
     "name": "stdout",
     "output_type": "stream",
     "text": [
      "Downloading data from https://storage.googleapis.com/tensorflow/keras-applications/inception_v3/inception_v3_weights_tf_dim_ordering_tf_kernels_notop.h5\n",
      "87910968/87910968 [==============================] - 276s 3us/step\n"
     ]
    }
   ],
   "source": [
    "# Building the inceptionv3 model \n",
    "inceptionV3_model = Sequential()\n",
    "pretrained_model = tf.keras.applications.InceptionV3(\n",
    "                            include_top=False,\n",
    "                            input_shape=(height,width,3),\n",
    "                            pooling=\"max\",\n",
    "                            classifier_activation=\"sigmoid\",\n",
    ")\n",
    "\n",
    "inceptionV3_model.add(pretrained_model)\n",
    "inceptionV3_model.add(Flatten())\n",
    "inceptionV3_model.add(Dense(1, activation = 'sigmoid'))"
   ]
  },
  {
   "cell_type": "code",
   "execution_count": 9,
   "metadata": {
    "colab": {
     "base_uri": "https://localhost:8080/"
    },
    "id": "FvgeLyyxQONZ",
    "outputId": "f84ae813-32e4-4c74-b597-22cdf269038b"
   },
   "outputs": [
    {
     "name": "stdout",
     "output_type": "stream",
     "text": [
      "Model: \"sequential\"\n",
      "_________________________________________________________________\n",
      " Layer (type)                Output Shape              Param #   \n",
      "=================================================================\n",
      " inception_v3 (Functional)   (None, 2048)              21802784  \n",
      "                                                                 \n",
      " flatten (Flatten)           (None, 2048)              0         \n",
      "                                                                 \n",
      " dense (Dense)               (None, 1)                 2049      \n",
      "                                                                 \n",
      "=================================================================\n",
      "Total params: 21,804,833\n",
      "Trainable params: 21,770,401\n",
      "Non-trainable params: 34,432\n",
      "_________________________________________________________________\n"
     ]
    }
   ],
   "source": [
    "inceptionV3_model.summary()"
   ]
  },
  {
   "cell_type": "code",
   "execution_count": 10,
   "metadata": {
    "id": "KVhLnWQ3QcXj"
   },
   "outputs": [],
   "source": [
    "inceptionV3_model.compile(Adam(learning_rate = 0.001), loss = 'binary_crossentropy', metrics = ['accuracy'])"
   ]
  },
  {
   "cell_type": "code",
   "execution_count": 11,
   "metadata": {
    "id": "rUHKBBTKQkub"
   },
   "outputs": [],
   "source": [
    "# Total no. of iterations to be carried out during training\n",
    "noepochs = 7"
   ]
  },
  {
   "cell_type": "code",
   "execution_count": 12,
   "metadata": {
    "colab": {
     "base_uri": "https://localhost:8080/"
    },
    "id": "ftTY4aHhQpjE",
    "outputId": "bc62132c-93d8-42fe-e88c-ba70039a7da4"
   },
   "outputs": [
    {
     "name": "stdout",
     "output_type": "stream",
     "text": [
      "Epoch 1/7\n",
      "250/250 [==============================] - 387s 1s/step - loss: 0.0785 - accuracy: 0.9749 - val_loss: 0.1164 - val_accuracy: 0.9770\n",
      "Epoch 2/7\n",
      "250/250 [==============================] - 368s 1s/step - loss: 0.0213 - accuracy: 0.9936 - val_loss: 0.1524 - val_accuracy: 0.9815\n",
      "Epoch 3/7\n",
      "250/250 [==============================] - 368s 1s/step - loss: 0.0231 - accuracy: 0.9945 - val_loss: 0.0242 - val_accuracy: 0.9945\n",
      "Epoch 4/7\n",
      "250/250 [==============================] - 366s 1s/step - loss: 0.0446 - accuracy: 0.9879 - val_loss: 0.2469 - val_accuracy: 0.9660\n",
      "Epoch 5/7\n",
      "250/250 [==============================] - 365s 1s/step - loss: 0.0450 - accuracy: 0.9910 - val_loss: 0.0348 - val_accuracy: 0.9865\n",
      "Epoch 6/7\n",
      "250/250 [==============================] - 365s 1s/step - loss: 0.0375 - accuracy: 0.9900 - val_loss: 0.0401 - val_accuracy: 0.9900\n",
      "Epoch 7/7\n",
      "250/250 [==============================] - 365s 1s/step - loss: 0.0156 - accuracy: 0.9961 - val_loss: 0.0782 - val_accuracy: 0.9705\n"
     ]
    }
   ],
   "source": [
    "# Running the epochs on inceptionV3 model\n",
    "mymodel = inceptionV3_model.fit(train_data,validation_data=valid_data,epochs=noepochs)"
   ]
  },
  {
   "cell_type": "code",
   "execution_count": 13,
   "metadata": {
    "id": "X_RqdavwQtnF"
   },
   "outputs": [],
   "source": [
    "epoch_range=range(noepochs)\n",
    "acc=mymodel.history['accuracy']\n",
    "val_acc = mymodel.history['val_accuracy']\n",
    "loss=mymodel.history['loss']\n",
    "val_loss=mymodel.history['val_loss']"
   ]
  },
  {
   "cell_type": "code",
   "execution_count": 14,
   "metadata": {
    "colab": {
     "base_uri": "https://localhost:8080/",
     "height": 452
    },
    "id": "cvmgrqlH0KOQ",
    "outputId": "95754c34-dfeb-42cd-d7c7-1bcd4e48b0fb"
   },
   "outputs": [
    {
     "data": {
      "text/plain": [
       "Text(0.5, 1.0, 'Training and validation Accuracy')"
      ]
     },
     "execution_count": 14,
     "metadata": {},
     "output_type": "execute_result"
    },
    {
     "data": {
      "image/png": "[encoded data removed]",
      "text/plain": [
       "<Figure size 1080x1080 with 1 Axes>"
      ]
     },
     "metadata": {
      "needs_background": "light"
     },
     "output_type": "display_data"
    }
   ],
   "source": [
    "# Plotting the accuracy for training and validation sets\n",
    "plt.figure(figsize=(15,15))\n",
    "plt.subplot(2,2,2)\n",
    "plt.plot(epoch_range,acc,label='Tranining Accuracy')\n",
    "plt.plot(epoch_range,val_acc,label='validation Accuracy')\n",
    "plt.legend(loc =\"lower right\")\n",
    "plt.title(\"Training and validation Accuracy\")"
   ]
  },
  {
   "cell_type": "code",
   "execution_count": 15,
   "metadata": {
    "colab": {
     "base_uri": "https://localhost:8080/",
     "height": 298
    },
    "id": "gGvbexmi0PnA",
    "outputId": "ec7d3933-8540-48e8-fddc-ab9098f4df9a"
   },
   "outputs": [
    {
     "data": {
      "text/plain": [
       "Text(0.5, 1.0, 'Training and validation loss')"
      ]
     },
     "execution_count": 15,
     "metadata": {},
     "output_type": "execute_result"
    },
    {
     "data": {
      "image/png": "[encoded data removed]",
      "text/plain": [
       "<Figure size 432x288 with 1 Axes>"
      ]
     },
     "metadata": {
      "needs_background": "light"
     },
     "output_type": "display_data"
    }
   ],
   "source": [
    "# plotting the loss for training and validation sets\n",
    "plt.subplot(1,1,1)\n",
    "plt.plot(epoch_range,loss,label='Tranining loss')\n",
    "plt.plot(epoch_range,val_loss,label='validation loss')\n",
    "plt.legend(loc =\"upper right\")\n",
    "plt.title(\"Training and validation loss\")"
   ]
  },
  {
   "cell_type": "code",
   "execution_count": 17,
   "metadata": {
    "id": "AcD6jee70UXG"
   },
   "outputs": [],
   "source": [
    "# Fetching the image to be tested using the trained model\n",
    "image = cv2.imread(\"Face Mask Detection/Train/WithMask/10.png\")"
   ]
  },
  {
   "cell_type": "code",
   "execution_count": null,
   "metadata": {
    "colab": {
     "base_uri": "https://localhost:8080/"
    },
    "id": "bQg-9YAd0fXx",
    "outputId": "de9618a2-85ed-4b54-8abc-13297f9d74d4"
   },
   "outputs": [],
   "source": [
    "# resizing the image using opencv and storing it\n",
    "image_resized = cv2.resize(image, (height, width))\n",
    "image = np.expand_dims(image_resized, axis = 0)\n",
    "print(image.shape)"
   ]
  },
  {
   "cell_type": "code",
   "execution_count": null,
   "metadata": {
    "id": "4Kyg-uG-0icQ"
   },
   "outputs": [],
   "source": [
    "# making prediction on the given image\n",
    "pred = inceptionV3_model.predict(image)"
   ]
  },
  {
   "cell_type": "code",
   "execution_count": null,
   "metadata": {
    "colab": {
     "base_uri": "https://localhost:8080/"
    },
    "id": "4oQ9ifd70k3l",
    "outputId": "7f71fb5a-b0f6-4c98-aa5e-6ab64eb38d05"
   },
   "outputs": [],
   "source": [
    "predicted_class = train_label_name[np.argmax(pred)]\n",
    "print(\"Predicted Class: \", predicted_class)"
   ]
  },
  {
   "cell_type": "code",
   "execution_count": null,
   "metadata": {},
   "outputs": [],
   "source": []
  },
  {
   "cell_type": "code",
   "execution_count": null,
   "metadata": {},
   "outputs": [],
   "source": []
  }
 ],
 "metadata": {
  "accelerator": "GPU",
  "colab": {
   "collapsed_sections": [],
   "name": "InceptionV3.ipynb",
   "provenance": []
  },
  "kernelspec": {
   "display_name": "Python 3 (ipykernel)",
   "language": "python",
   "name": "python3"
  },
  "language_info": {
   "codemirror_mode": {
    "name": "ipython",
    "version": 3
   },
   "file_extension": ".py",
   "mimetype": "text/x-python",
   "name": "python",
   "nbconvert_exporter": "python",
   "pygments_lexer": "ipython3",
   "version": "3.9.7"
  }
 },
 "nbformat": 4,
 "nbformat_minor": 1
}
