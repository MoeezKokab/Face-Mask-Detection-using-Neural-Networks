{
 "cells": [
  {
   "cell_type": "code",
   "execution_count": 1,
   "metadata": {
    "id": "FNf6he97Ukxh"
   },
   "outputs": [],
   "source": [
    "# importing the necessary libraries\n",
    "import matplotlib.pyplot as plt\n",
    "import numpy as np\n",
    "import tensorflow as tf\n",
    "from tensorflow import keras\n",
    "from tensorflow.keras import layers\n",
    "from tensorflow.keras.models import Sequential\n",
    "import tkinter as tk\n",
    "from tkinter import filedialog\n",
    "import pathlib\n",
    "from keras.layers import Dense, GlobalAveragePooling2D, Conv2D, MaxPool2D, Flatten, Input, ZeroPadding2D, BatchNormalization\n",
    "from keras.layers import Activation,MaxPooling2D, Add,AveragePooling2D\n",
    "from keras.models import Model\n",
    "from tensorflow.keras.optimizers import Adam\n"
   ]
  },
  {
   "cell_type": "code",
   "execution_count": 2,
   "metadata": {
    "id": "0S6cjWiLV8kN"
   },
   "outputs": [],
   "source": [
    "# Fetching the dataset\n",
    "data = 'Train'\n",
    "data = pathlib.Path(data)"
   ]
  },
  {
   "cell_type": "code",
   "execution_count": 3,
   "metadata": {
    "colab": {
     "base_uri": "https://localhost:8080/"
    },
    "id": "slzj_qZ0WKi0",
    "outputId": "ea650082-2e2d-4b7a-92cf-4d763e97ac83"
   },
   "outputs": [
    {
     "name": "stdout",
     "output_type": "stream",
     "text": [
      "Found 10000 files belonging to 2 classes.\n",
      "Using 8000 files for training.\n"
     ]
    }
   ],
   "source": [
    "# Data preprocessing for Training Set\n",
    "batch_size=32\n",
    "height = 64\n",
    "width = 64\n",
    "\n",
    "train_data=tf.keras.utils.image_dataset_from_directory(\n",
    "    data,\n",
    "    batch_size=batch_size,\n",
    "    seed=123,\n",
    "    validation_split=0.2,\n",
    "    subset=\"training\",\n",
    "    image_size=(height,width)\n",
    ")"
   ]
  },
  {
   "cell_type": "code",
   "execution_count": 4,
   "metadata": {
    "colab": {
     "base_uri": "https://localhost:8080/"
    },
    "id": "HeRM57YcWUbV",
    "outputId": "ca9eea1e-e978-4340-811e-5af04dd3921c"
   },
   "outputs": [
    {
     "name": "stdout",
     "output_type": "stream",
     "text": [
      "Found 10000 files belonging to 2 classes.\n",
      "Using 2000 files for validation.\n"
     ]
    }
   ],
   "source": [
    "# Data preprocessing for Validation Set\n",
    "valid_data=tf.keras.utils.image_dataset_from_directory(\n",
    "    data,\n",
    "    batch_size=batch_size,\n",
    "    seed=123,\n",
    "    validation_split=0.2,\n",
    "    subset=\"validation\",\n",
    "    image_size=(height,width)\n",
    ")"
   ]
  },
  {
   "cell_type": "code",
   "execution_count": 5,
   "metadata": {
    "colab": {
     "base_uri": "https://localhost:8080/"
    },
    "id": "1UKmKCfnWqwt",
    "outputId": "909d8643-dc17-489a-8fd6-94160457168b"
   },
   "outputs": [
    {
     "name": "stdout",
     "output_type": "stream",
     "text": [
      "['WithMask', 'WithoutMask']\n"
     ]
    }
   ],
   "source": [
    "# Sowing the classes in Train Set\n",
    "train_label_name = train_data.class_names\n",
    "print(train_label_name)"
   ]
  },
  {
   "cell_type": "code",
   "execution_count": 6,
   "metadata": {
    "colab": {
     "base_uri": "https://localhost:8080/"
    },
    "id": "KzosMZOEW4yk",
    "outputId": "8665bb1a-4be8-4856-b821-78a199dd74dc"
   },
   "outputs": [
    {
     "name": "stdout",
     "output_type": "stream",
     "text": [
      "['WithMask', 'WithoutMask']\n"
     ]
    }
   ],
   "source": [
    "# Sowing the classes in Validation Set\n",
    "valid_label_name = valid_data.class_names\n",
    "print(valid_label_name)"
   ]
  },
  {
   "cell_type": "code",
   "execution_count": 7,
   "metadata": {
    "id": "s6HgfhANW7L-"
   },
   "outputs": [],
   "source": [
    "# Automatically shuffling the images @ 1000 images per fetch\n",
    "autotune=tf.data.experimental.AUTOTUNE\n",
    "train_data=train_data.cache().shuffle(1000).prefetch(buffer_size=autotune)\n",
    "\n",
    "valid_data=valid_data.cache().prefetch(buffer_size=autotune)"
   ]
  },
  {
   "cell_type": "code",
   "execution_count": 8,
   "metadata": {
    "id": "GDCD7RMPW9ih"
   },
   "outputs": [],
   "source": [
    "# building the vgg16 model\n",
    "def Vgg16(input_shape=(64, 64, 3), classes = 2):\n",
    "\n",
    "  input = Input(shape = (64,64,3))\n",
    "\n",
    "  x = Conv2D(filters = 64, kernel_size = (3,3), padding = 'same' , activation = 'relu')(input)\n",
    "  x = Conv2D(filters = 64, kernel_size = (3,3), padding = 'same' , activation = 'relu')(x)\n",
    "  x = MaxPool2D(pool_size = (2,2))(x)\n",
    "\n",
    "  x = Conv2D(filters = 128, kernel_size = (3,3), padding = 'same' , activation = 'relu')(x)\n",
    "  x = Conv2D(filters = 128, kernel_size = (3,3), padding = 'same' , activation = 'relu')(x)\n",
    "  x = MaxPool2D(pool_size = (2,2))(x)\n",
    "\n",
    "  x = Conv2D(filters = 256, kernel_size = (3,3), padding = 'same' , activation = 'relu')(x)\n",
    "  x = Conv2D(filters = 256, kernel_size = (3,3), padding = 'same' , activation = 'relu')(x)\n",
    "  x = Conv2D(filters = 256, kernel_size = (3,3), padding = 'same' , activation = 'relu')(x)\n",
    "  x = MaxPool2D(pool_size = (2,2))(x)\n",
    "\n",
    "  x = Conv2D(filters = 512, kernel_size = (3,3), padding = 'same' , activation = 'relu')(x)\n",
    "  x = Conv2D(filters = 512, kernel_size = (3,3), padding = 'same' , activation = 'relu')(x)\n",
    "  x = Conv2D(filters = 512, kernel_size = (3,3), padding = 'same' , activation = 'relu')(x)\n",
    "  x = MaxPool2D(pool_size = (2,2))(x)\n",
    "\n",
    "  x = Conv2D(filters = 512, kernel_size = (3,3), padding = 'same' , activation = 'relu')(x)\n",
    "  x = Conv2D(filters = 512, kernel_size = (3,3), padding = 'same' , activation = 'relu')(x)\n",
    "  x = Conv2D(filters = 512, kernel_size = (3,3), padding = 'same' , activation = 'relu')(x)\n",
    "  x = MaxPool2D(pool_size = (2,2))(x)\n",
    "\n",
    "  x = Flatten()(x)\n",
    "  x = Dense(units = 4096, activation = 'relu')(x)\n",
    "  x = Dense(units = 4096, activation = 'relu')(x)\n",
    "  x = Dense(units = 1, activation = 'softmax')(x)\n",
    "\n",
    "  model = Model(inputs = input, outputs = x, name = 'Vgg16')\n",
    "\n",
    "  return model"
   ]
  },
  {
   "cell_type": "code",
   "execution_count": 9,
   "metadata": {
    "id": "gzmsfsN2XQ96"
   },
   "outputs": [],
   "source": [
    "vgg_16_model = Vgg16(input_shape = (64,64,3), classes = 2)"
   ]
  },
  {
   "cell_type": "code",
   "execution_count": 10,
   "metadata": {
    "id": "q6orA4-LXbNg"
   },
   "outputs": [],
   "source": [
    "vgg_16_model.compile(Adam(learning_rate = 0.001), loss = 'binary_crossentropy', metrics = ['accuracy'])"
   ]
  },
  {
   "cell_type": "code",
   "execution_count": 11,
   "metadata": {
    "colab": {
     "base_uri": "https://localhost:8080/"
    },
    "id": "SQmrVgk5XlCT",
    "outputId": "015b560e-eef0-4d97-dc9d-16d3033721d7"
   },
   "outputs": [
    {
     "name": "stdout",
     "output_type": "stream",
     "text": [
      "Model: \"Vgg16\"\n",
      "_________________________________________________________________\n",
      " Layer (type)                Output Shape              Param #   \n",
      "=================================================================\n",
      " input_1 (InputLayer)        [(None, 64, 64, 3)]       0         \n",
      "                                                                 \n",
      " conv2d (Conv2D)             (None, 64, 64, 64)        1792      \n",
      "                                                                 \n",
      " conv2d_1 (Conv2D)           (None, 64, 64, 64)        36928     \n",
      "                                                                 \n",
      " max_pooling2d (MaxPooling2D  (None, 32, 32, 64)       0         \n",
      " )                                                               \n",
      "                                                                 \n",
      " conv2d_2 (Conv2D)           (None, 32, 32, 128)       73856     \n",
      "                                                                 \n",
      " conv2d_3 (Conv2D)           (None, 32, 32, 128)       147584    \n",
      "                                                                 \n",
      " max_pooling2d_1 (MaxPooling  (None, 16, 16, 128)      0         \n",
      " 2D)                                                             \n",
      "                                                                 \n",
      " conv2d_4 (Conv2D)           (None, 16, 16, 256)       295168    \n",
      "                                                                 \n",
      " conv2d_5 (Conv2D)           (None, 16, 16, 256)       590080    \n",
      "                                                                 \n",
      " conv2d_6 (Conv2D)           (None, 16, 16, 256)       590080    \n",
      "                                                                 \n",
      " max_pooling2d_2 (MaxPooling  (None, 8, 8, 256)        0         \n",
      " 2D)                                                             \n",
      "                                                                 \n",
      " conv2d_7 (Conv2D)           (None, 8, 8, 512)         1180160   \n",
      "                                                                 \n",
      " conv2d_8 (Conv2D)           (None, 8, 8, 512)         2359808   \n",
      "                                                                 \n",
      " conv2d_9 (Conv2D)           (None, 8, 8, 512)         2359808   \n",
      "                                                                 \n",
      " max_pooling2d_3 (MaxPooling  (None, 4, 4, 512)        0         \n",
      " 2D)                                                             \n",
      "                                                                 \n",
      " conv2d_10 (Conv2D)          (None, 4, 4, 512)         2359808   \n",
      "                                                                 \n",
      " conv2d_11 (Conv2D)          (None, 4, 4, 512)         2359808   \n",
      "                                                                 \n",
      " conv2d_12 (Conv2D)          (None, 4, 4, 512)         2359808   \n",
      "                                                                 \n",
      " max_pooling2d_4 (MaxPooling  (None, 2, 2, 512)        0         \n",
      " 2D)                                                             \n",
      "                                                                 \n",
      " flatten (Flatten)           (None, 2048)              0         \n",
      "                                                                 \n",
      " dense (Dense)               (None, 4096)              8392704   \n",
      "                                                                 \n",
      " dense_1 (Dense)             (None, 4096)              16781312  \n",
      "                                                                 \n",
      " dense_2 (Dense)             (None, 1)                 4097      \n",
      "                                                                 \n",
      "=================================================================\n",
      "Total params: 39,892,801\n",
      "Trainable params: 39,892,801\n",
      "Non-trainable params: 0\n",
      "_________________________________________________________________\n"
     ]
    }
   ],
   "source": [
    "vgg_16_model.summary()"
   ]
  },
  {
   "cell_type": "code",
   "execution_count": 12,
   "metadata": {
    "id": "HiwNxnV3Xq65"
   },
   "outputs": [],
   "source": [
    "# Total no. of iterations to be carried out during training\n",
    "noepochs = 7"
   ]
  },
  {
   "cell_type": "code",
   "execution_count": 13,
   "metadata": {
    "colab": {
     "base_uri": "https://localhost:8080/"
    },
    "id": "ekLU2eIfX2nf",
    "outputId": "536254e5-38c3-431c-853b-4c0280138cf9"
   },
   "outputs": [
    {
     "name": "stdout",
     "output_type": "stream",
     "text": [
      "Epoch 1/7\n",
      "250/250 [==============================] - 1031s 4s/step - loss: 3.9861 - accuracy: 0.5013 - val_loss: 0.6935 - val_accuracy: 0.4950\n",
      "Epoch 2/7\n",
      "250/250 [==============================] - 957s 4s/step - loss: 0.6933 - accuracy: 0.5013 - val_loss: 0.6933 - val_accuracy: 0.4950\n",
      "Epoch 3/7\n",
      "250/250 [==============================] - 946s 4s/step - loss: 0.6932 - accuracy: 0.5013 - val_loss: 0.6932 - val_accuracy: 0.4950\n",
      "Epoch 4/7\n",
      "250/250 [==============================] - 973s 4s/step - loss: 0.6932 - accuracy: 0.5013 - val_loss: 0.6932 - val_accuracy: 0.4950\n",
      "Epoch 5/7\n",
      "250/250 [==============================] - 961s 4s/step - loss: 0.6932 - accuracy: 0.5013 - val_loss: 0.6932 - val_accuracy: 0.4950\n",
      "Epoch 6/7\n",
      "250/250 [==============================] - 939s 4s/step - loss: 0.6932 - accuracy: 0.5013 - val_loss: 0.6932 - val_accuracy: 0.4950\n",
      "Epoch 7/7\n",
      "250/250 [==============================] - 941s 4s/step - loss: 0.6932 - accuracy: 0.5013 - val_loss: 0.6932 - val_accuracy: 0.4950\n"
     ]
    }
   ],
   "source": [
    "# Running the epochs on VGG16 model\n",
    "mymodel = vgg_16_model.fit(train_data,validation_data=valid_data,epochs=noepochs)"
   ]
  },
  {
   "cell_type": "code",
   "execution_count": 21,
   "metadata": {
    "id": "kjuspyaUX_Lx"
   },
   "outputs": [],
   "source": [
    "epoch_range=range(noepochs)\n",
    "acc=mymodel.history['accuracy']\n",
    "val_acc = mymodel.history['val_accuracy']\n",
    "loss=mymodel.history['loss']\n",
    "val_loss=mymodel.history['val_loss']"
   ]
  },
  {
   "cell_type": "code",
   "execution_count": 22,
   "metadata": {
    "colab": {
     "base_uri": "https://localhost:8080/",
     "height": 452
    },
    "id": "w4vcDEdQdZ4n",
    "outputId": "6a0916dc-25d9-4c3c-8b46-c52bbf20a6ac"
   },
   "outputs": [
    {
     "data": {
      "text/plain": [
       "Text(0.5, 1.0, 'Training and validation Accuracy')"
      ]
     },
     "execution_count": 22,
     "metadata": {},
     "output_type": "execute_result"
    },
    {
     "data": {
      "image/png": "[encoded data removed]",
      "text/plain": [
       "<Figure size 1080x1080 with 1 Axes>"
      ]
     },
     "metadata": {
      "needs_background": "light"
     },
     "output_type": "display_data"
    }
   ],
   "source": [
    "# Plotting the accuracy for training and validation sets\n",
    "plt.figure(figsize=(15,15))\n",
    "plt.subplot(2,2,2)\n",
    "plt.plot(epoch_range,acc,label='Tranining Accuracy')\n",
    "plt.plot(epoch_range,val_acc,label='validation Accuracy')\n",
    "plt.legend(loc =\"lower right\")\n",
    "plt.title(\"Training and validation Accuracy\")"
   ]
  },
  {
   "cell_type": "code",
   "execution_count": 23,
   "metadata": {
    "colab": {
     "base_uri": "https://localhost:8080/",
     "height": 298
    },
    "id": "FsfVfAtYdc1a",
    "outputId": "e7066aeb-5351-4157-e1fc-48550b709377"
   },
   "outputs": [
    {
     "data": {
      "text/plain": [
       "Text(0.5, 1.0, 'Training and validation loss')"
      ]
     },
     "execution_count": 23,
     "metadata": {},
     "output_type": "execute_result"
    },
    {
     "data": {
      "image/png": "[encoded data removed]",
      "text/plain": [
       "<Figure size 432x288 with 1 Axes>"
      ]
     },
     "metadata": {
      "needs_background": "light"
     },
     "output_type": "display_data"
    }
   ],
   "source": [
    "# plotting the loss for training and validation sets\n",
    "plt.subplot(1,1,1)\n",
    "plt.plot(epoch_range,loss,label='Tranining loss')\n",
    "plt.plot(epoch_range,val_loss,label='validation loss')\n",
    "plt.legend(loc =\"lower right\")\n",
    "plt.title(\"Training and validation loss\")"
   ]
  },
  {
   "cell_type": "code",
   "execution_count": 24,
   "metadata": {
    "id": "dY-ic7swdhYd"
   },
   "outputs": [],
   "source": [
    "# Fetching the image to be tested using the trained model\n",
    "image = cv2.imread(\"Face Mask Detection/Train/WithMask/10.png\")"
   ]
  },
  {
   "cell_type": "code",
   "execution_count": 25,
   "metadata": {
    "colab": {
     "base_uri": "https://localhost:8080/"
    },
    "id": "hc26vAy9dl3b",
    "outputId": "75fbdfa5-43d9-415d-8f17-6fde22b0cfbf"
   },
   "outputs": [
    {
     "name": "stdout",
     "output_type": "stream",
     "text": [
      "(1, 64, 64, 3)\n"
     ]
    }
   ],
   "source": [
    "# resizing the image using opencv and storing it\n",
    "image_resized = cv2.resize(image, (height, width))\n",
    "image = np.expand_dims(image_resized, axis = 0)\n",
    "print(image.shape)"
   ]
  },
  {
   "cell_type": "code",
   "execution_count": 26,
   "metadata": {
    "id": "XRkH8Ndjdobb"
   },
   "outputs": [],
   "source": [
    "# making prediction on the given image\n",
    "pred = vgg_16_model.predict(image)"
   ]
  },
  {
   "cell_type": "code",
   "execution_count": 27,
   "metadata": {
    "colab": {
     "base_uri": "https://localhost:8080/"
    },
    "id": "o6xUp-vadufA",
    "outputId": "bea00b52-d072-417b-d13c-1078140b5411"
   },
   "outputs": [
    {
     "name": "stdout",
     "output_type": "stream",
     "text": [
      "Predicted Class:  WithMask\n"
     ]
    }
   ],
   "source": [
    "predicted_class = train_label_name[np.argmax(pred)]\n",
    "print(\"Predicted Class: \", predicted_class)"
   ]
  }
 ],
 "metadata": {
  "accelerator": "GPU",
  "colab": {
   "collapsed_sections": [],
   "name": "VGG16.ipynb",
   "provenance": []
  },
  "kernelspec": {
   "display_name": "Python 3 (ipykernel)",
   "language": "python",
   "name": "python3"
  },
  "language_info": {
   "codemirror_mode": {
    "name": "ipython",
    "version": 3
   },
   "file_extension": ".py",
   "mimetype": "text/x-python",
   "name": "python",
   "nbconvert_exporter": "python",
   "pygments_lexer": "ipython3",
   "version": "3.9.7"
  }
 },
 "nbformat": 4,
 "nbformat_minor": 1
}
