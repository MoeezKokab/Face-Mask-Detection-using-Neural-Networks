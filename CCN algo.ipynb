{
 "cells": [
  {
   "cell_type": "code",
   "execution_count": 15,
   "id": "3d0428eb",
   "metadata": {},
   "outputs": [],
   "source": [
    "import matplotlib.pyplot as plt\n",
    "import numpy as np\n",
    "import tensorflow as tf\n",
    "from tensorflow import keras\n",
    "from tensorflow.keras import layers\n",
    "from tensorflow.keras.models import Sequential\n",
    "import tkinter as tk\n",
    "from tkinter import filedialog\n",
    "import pathlib\n"
   ]
  },
  {
   "cell_type": "code",
   "execution_count": 16,
   "id": "0319aa20",
   "metadata": {},
   "outputs": [],
   "source": [
    "data = 'Train'\n",
    "data = pathlib.Path(data)"
   ]
  },
  {
   "cell_type": "code",
   "execution_count": 17,
   "id": "31f945f3",
   "metadata": {},
   "outputs": [
    {
     "name": "stdout",
     "output_type": "stream",
     "text": [
      "Found 10000 files belonging to 2 classes.\n",
      "Using 8000 files for training.\n"
     ]
    }
   ],
   "source": [
    "batch_size=16\n",
    "height = 64\n",
    "width = 64\n",
    "\n",
    "train_data=tf.keras.utils.image_dataset_from_directory(\n",
    "    data,\n",
    "    batch_size=batch_size,\n",
    "    seed=123,\n",
    "    validation_split=0.2,\n",
    "    subset=\"training\",\n",
    "    image_size=(height,width)\n",
    "\n",
    ")\n",
    "\n"
   ]
  },
  {
   "cell_type": "code",
   "execution_count": 18,
   "id": "b9fb17f5",
   "metadata": {},
   "outputs": [
    {
     "name": "stdout",
     "output_type": "stream",
     "text": [
      "Found 10000 files belonging to 2 classes.\n",
      "Using 2000 files for validation.\n"
     ]
    }
   ],
   "source": [
    "valid_data=tf.keras.utils.image_dataset_from_directory(\n",
    "    data,\n",
    "    batch_size=batch_size,\n",
    "    seed=123,\n",
    "    validation_split=0.2,\n",
    "    subset=\"validation\",\n",
    "    image_size=(height,width)\n",
    "\n",
    ")"
   ]
  },
  {
   "cell_type": "code",
   "execution_count": 8,
   "id": "30aef161",
   "metadata": {},
   "outputs": [
    {
     "name": "stdout",
     "output_type": "stream",
     "text": [
      "['WithMask', 'WithoutMask']\n"
     ]
    }
   ],
   "source": [
    "train_label_name = train_data.class_names\n",
    "print(train_label_name)"
   ]
  },
  {
   "cell_type": "code",
   "execution_count": 9,
   "id": "f48a7fec",
   "metadata": {},
   "outputs": [
    {
     "name": "stdout",
     "output_type": "stream",
     "text": [
      "['WithMask', 'WithoutMask']\n"
     ]
    }
   ],
   "source": [
    "valid_label_name = valid_data.class_names\n",
    "print(valid_label_name)"
   ]
  },
  {
   "cell_type": "code",
   "execution_count": 21,
   "id": "c8c6d4ce",
   "metadata": {},
   "outputs": [],
   "source": [
    "autotune=tf.data.experimental.AUTOTUNE\n",
    "train_data=train_data.cache().shuffle(1000).prefetch(buffer_size=autotune)\n",
    "\n",
    "valid_data=valid_data.cache().prefetch(buffer_size=autotune)"
   ]
  },
  {
   "cell_type": "code",
   "execution_count": 22,
   "id": "25d78c00",
   "metadata": {},
   "outputs": [],
   "source": [
    "# CNN\n",
    "num_class=2\n",
    "model = Sequential([\n",
    "    layers.experimental.preprocessing.Rescaling(1./255,input_shape=(height,width,3)),\n",
    "    layers.Conv2D(16,3,padding='same',activation='relu'),\n",
    "    layers.MaxPooling2D(),\n",
    "    layers.Conv2D(32,3,padding='same',activation='relu'),\n",
    "    layers.MaxPooling2D(),\n",
    "    layers.Conv2D(64,3,padding='same',activation='relu'),\n",
    "    layers.MaxPooling2D(),\n",
    "    layers.Dropout(0.2),\n",
    "    layers.Flatten(),\n",
    "    layers.Dense(64,activation='relu'),\n",
    "    layers.Dense(num_class),\n",
    "    \n",
    "    \n",
    "])\n"
   ]
  },
  {
   "cell_type": "code",
   "execution_count": 14,
   "id": "668ff88b",
   "metadata": {},
   "outputs": [
    {
     "name": "stdout",
     "output_type": "stream",
     "text": [
      "Epoch 1/7\n",
      "500/500 [==============================] - 34s 56ms/step - loss: 0.1220 - accuracy: 0.9515 - val_loss: 0.0457 - val_accuracy: 0.9855\n",
      "Epoch 2/7\n",
      "500/500 [==============================] - 28s 55ms/step - loss: 0.0563 - accuracy: 0.9794 - val_loss: 0.0444 - val_accuracy: 0.9850\n",
      "Epoch 3/7\n",
      "500/500 [==============================] - 26s 53ms/step - loss: 0.0416 - accuracy: 0.9859 - val_loss: 0.0698 - val_accuracy: 0.9780\n",
      "Epoch 4/7\n",
      "500/500 [==============================] - 28s 56ms/step - loss: 0.0325 - accuracy: 0.9881 - val_loss: 0.0329 - val_accuracy: 0.9885\n",
      "Epoch 5/7\n",
      "500/500 [==============================] - 27s 54ms/step - loss: 0.0274 - accuracy: 0.9901 - val_loss: 0.0285 - val_accuracy: 0.9915\n",
      "Epoch 6/7\n",
      "500/500 [==============================] - 27s 54ms/step - loss: 0.0214 - accuracy: 0.9921 - val_loss: 0.0279 - val_accuracy: 0.9925\n",
      "Epoch 7/7\n",
      "500/500 [==============================] - 28s 55ms/step - loss: 0.0212 - accuracy: 0.9925 - val_loss: 0.0218 - val_accuracy: 0.9935\n"
     ]
    }
   ],
   "source": [
    "noepochs=7\n",
    "model.compile(optimizer=\"adam\",loss=tf.losses.SparseCategoricalCrossentropy(from_logits=True),metrics=['accuracy'])\n",
    "mymodel=model.fit(train_data,validation_data=valid_data,epochs=noepochs)"
   ]
  },
  {
   "cell_type": "code",
   "execution_count": 22,
   "id": "d4126ba1",
   "metadata": {},
   "outputs": [],
   "source": [
    "epoch_range=range(noepochs)\n",
    "acc=mymodel.history['accuracy']\n",
    "val_acc = mymodel.history['val_accuracy']\n",
    "loss=mymodel.history['loss']\n",
    "val_loss=mymodel.history['val_loss']\n"
   ]
  },
  {
   "cell_type": "code",
   "execution_count": 29,
   "id": "0c92ed48",
   "metadata": {},
   "outputs": [
    {
     "data": {
      "text/plain": [
       "Text(0.5, 1.0, 'Training and validation loss')"
      ]
     },
     "execution_count": 29,
     "metadata": {},
     "output_type": "execute_result"
    },
    {
     "data": {
      "image/png": "[encoded data removed]",
      "text/plain": [
       "<Figure size 1080x1080 with 1 Axes>"
      ]
     },
     "metadata": {
      "needs_background": "light"
     },
     "output_type": "display_data"
    }
   ],
   "source": [
    "plt.figure(figsize=(15,15))\n",
    "plt.subplot(2,2,2)\n",
    "plt.plot(epoch_range,acc,label='Tranining Accuracy')\n",
    "plt.plot(epoch_range,val_acc,label='validation Accuracy')\n",
    "plt.legend(loc =\"lower right\")\n",
    "plt.title(\"Training and validation Accuracy\")\n"
   ]
  },
  {
   "cell_type": "code",
   "execution_count": 34,
   "id": "f12dbfd0",
   "metadata": {},
   "outputs": [
    {
     "data": {
      "text/plain": [
       "Text(0.5, 1.0, 'Training and validation loss')"
      ]
     },
     "execution_count": 34,
     "metadata": {},
     "output_type": "execute_result"
    },
    {
     "data": {
      "image/png": "[encoded data removed]",
      "text/plain": [
       "<Figure size 432x288 with 1 Axes>"
      ]
     },
     "metadata": {
      "needs_background": "light"
     },
     "output_type": "display_data"
    }
   ],
   "source": [
    "plt.subplot(1,1,1)\n",
    "plt.plot(epoch_range,loss,label='Tranining loss')\n",
    "plt.plot(epoch_range,val_loss,label='validation loss')\n",
    "plt.legend(loc =\"lower right\")\n",
    "plt.title(\"Training and validation loss\")"
   ]
  },
  {
   "cell_type": "code",
   "execution_count": 19,
   "id": "b6a6b1ec",
   "metadata": {},
   "outputs": [],
   "source": [
    "def recogout():\n",
    "    root=tk.Tk()\n",
    "    root.withdraw()\n",
    "    img_path=filedialog.askopenfilename()\n",
    "    img=keras.preprocessing.image.load_img(img_path,target_size=(height,width))\n",
    "    img_array=keras.preprocessing.image.img_to_array(img)\n",
    "    img_array=tf.expand_dims(img_array,0)\n",
    "    predictions = model.predict(img_array)\n",
    "    score = tf.nn.softmax(predictions[0])\n",
    "    print(\"this image most likely belong to {}with a{:.2f} prcent confidence.\"\n",
    "         .format(class_names[np.argmax(score)],100*np.max(score)))"
   ]
  },
  {
   "cell_type": "code",
   "execution_count": null,
   "id": "eae3042e",
   "metadata": {
    "scrolled": true
   },
   "outputs": [],
   "source": [
    "recogout()"
   ]
  },
  {
   "cell_type": "code",
   "execution_count": 39,
   "id": "5362a4cf",
   "metadata": {},
   "outputs": [],
   "source": []
  },
  {
   "cell_type": "code",
   "execution_count": 1,
   "id": "f8aff5e6",
   "metadata": {},
   "outputs": [],
   "source": []
  },
  {
   "cell_type": "code",
   "execution_count": null,
   "id": "7002bbc2",
   "metadata": {},
   "outputs": [],
   "source": []
  }
 ],
 "metadata": {
  "kernelspec": {
   "display_name": "Python 3 (ipykernel)",
   "language": "python",
   "name": "python3"
  },
  "language_info": {
   "codemirror_mode": {
    "name": "ipython",
    "version": 3
   },
   "file_extension": ".py",
   "mimetype": "text/x-python",
   "name": "python",
   "nbconvert_exporter": "python",
   "pygments_lexer": "ipython3",
   "version": "3.9.7"
  }
 },
 "nbformat": 4,
 "nbformat_minor": 5
}
